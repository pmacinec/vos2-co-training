{
 "cells": [
  {
   "cell_type": "markdown",
   "metadata": {},
   "source": [
    "# Co-training\n",
    "\n",
    "**Autori:** Peter Macinec, Lukas Janik, Vajk Pomichal, Frantisek Sefcik"
   ]
  },
  {
   "cell_type": "markdown",
   "metadata": {},
   "source": [
    "## Zakladne nastavenia a import kniznic"
   ]
  },
  {
   "cell_type": "code",
   "execution_count": 1,
   "metadata": {},
   "outputs": [],
   "source": [
    "import pandas as pd\n",
    "import numpy as np\n",
    "\n",
    "\n",
    "# plots\n",
    "import matplotlib.pyplot as plt\n",
    "import seaborn as sns\n",
    "\n",
    "import json\n",
    "\n",
    "import re\n",
    "\n",
    "import nltk\n",
    "from nltk.stem.porter import PorterStemmer\n",
    "import string\n",
    "from nltk.corpus import stopwords\n",
    "from sklearn.feature_extraction.text import TfidfVectorizer\n",
    "\n",
    "from sklearn.ensemble import RandomForestClassifier\n",
    "from sklearn.linear_model import LogisticRegression\n",
    "\n",
    "from sklearn.metrics import accuracy_score\n",
    "from sklearn.preprocessing import StandardScaler\n",
    "from sklearn import model_selection as ms\n",
    "\n",
    "from sklearn.metrics import confusion_matrix\n",
    "\n",
    "import statistics\n",
    "\n",
    "from functools import reduce\n",
    "\n",
    "import warnings\n",
    "warnings.filterwarnings('ignore', category=FutureWarning)\n",
    "warnings.filterwarnings('ignore', category=UserWarning)\n",
    "pd.options.mode.chained_assignment = None  # default='warn'"
   ]
  },
  {
   "cell_type": "markdown",
   "metadata": {},
   "source": [
    "### Nacitanie datasetu\n",
    "\n",
    "Nase data su dostupne v dvoch suboroch, *train.tsv* a *test.tsv*. Nacitame ich oba a vykoname na nich zakladnu analyzu. Zdroj: https://www.kaggle.com/c/stumbleupon"
   ]
  },
  {
   "cell_type": "code",
   "execution_count": 2,
   "metadata": {},
   "outputs": [],
   "source": [
    "# trenovacie data\n",
    "df = pd.read_csv('data/train.tsv', sep='\\t')"
   ]
  },
  {
   "cell_type": "code",
   "execution_count": 3,
   "metadata": {},
   "outputs": [],
   "source": [
    "# testovacie data\n",
    "df_t = pd.read_csv('data/test.tsv', sep='\\t')"
   ]
  },
  {
   "cell_type": "markdown",
   "metadata": {},
   "source": [
    "## Textove atributy"
   ]
  },
  {
   "cell_type": "markdown",
   "metadata": {},
   "source": [
    "Najskor predspracujeme text. Ziskame ho z atributu boilerplate:"
   ]
  },
  {
   "cell_type": "code",
   "execution_count": 4,
   "metadata": {},
   "outputs": [],
   "source": [
    "df['body_content'] = df['boilerplate'].apply(lambda x: json.loads(x)['body'])"
   ]
  },
  {
   "cell_type": "markdown",
   "metadata": {},
   "source": [
    "Teraz odstranime vsetky znaky, ktore nie su znaky slov. Pouzijeme na to regularne vyrazy:"
   ]
  },
  {
   "cell_type": "code",
   "execution_count": 5,
   "metadata": {},
   "outputs": [],
   "source": [
    "df['body_content'].replace({r'[^\\x00-\\x7F]+':''}, regex=True, inplace=True)"
   ]
  },
  {
   "cell_type": "code",
   "execution_count": 6,
   "metadata": {},
   "outputs": [],
   "source": [
    "df['body_content'] = df['body_content'].apply(lambda x: re.sub('[^a-zA-Z]', ' ', str(x)))"
   ]
  },
  {
   "cell_type": "markdown",
   "metadata": {},
   "source": [
    "Este ako male upravy, aby nas slovnik obsahoval kazde slovo len raz, dame ich vsetky na lowercase a rozdelime texty na slova, aby sme ich nasledne mohli spracovat:"
   ]
  },
  {
   "cell_type": "code",
   "execution_count": 7,
   "metadata": {},
   "outputs": [],
   "source": [
    "df['body_content'] = df['body_content'].apply(lambda x: str(x).lower().split())"
   ]
  },
  {
   "cell_type": "markdown",
   "metadata": {},
   "source": [
    "Teraz potrebujeme este odstranit slova, ktore nedavaju vyznam. O jednom raze prevedieme slova na ich korenovy zaklad pouzitim stemmingu:"
   ]
  },
  {
   "cell_type": "code",
   "execution_count": 8,
   "metadata": {},
   "outputs": [],
   "source": [
    "porter_stemmer = PorterStemmer()\n",
    "stopwords = set(stopwords.words('english'))"
   ]
  },
  {
   "cell_type": "code",
   "execution_count": 9,
   "metadata": {},
   "outputs": [],
   "source": [
    "df['body_content'] = df['body_content'].apply(lambda x: [porter_stemmer.stem(word) for word in x if word not in stopwords])"
   ]
  },
  {
   "cell_type": "markdown",
   "metadata": {},
   "source": [
    "Teraz uz mame vsetky slova pripravene, uz ich len naspat spojime do jednej suvislej vety, aby s nimi vedeli lahsie pracovat algoritmy spracovania textu:"
   ]
  },
  {
   "cell_type": "code",
   "execution_count": 10,
   "metadata": {},
   "outputs": [],
   "source": [
    "df['body_content_final'] = df['body_content'].apply(lambda x: ' '.join(x))"
   ]
  },
  {
   "cell_type": "markdown",
   "metadata": {},
   "source": [
    "### TF-IDF"
   ]
  },
  {
   "cell_type": "code",
   "execution_count": 11,
   "metadata": {},
   "outputs": [],
   "source": [
    "tv = TfidfVectorizer(max_features = 1000)\n",
    "tf_idf = tv.fit_transform(df['body_content_final']).toarray()"
   ]
  },
  {
   "cell_type": "markdown",
   "metadata": {},
   "source": [
    "### Atribut URL"
   ]
  },
  {
   "cell_type": "code",
   "execution_count": 12,
   "metadata": {},
   "outputs": [],
   "source": [
    "df['url_new'] = df['url'].apply(lambda x: re.sub('[^a-zA-Z]', ' ', str(x)))\n",
    "df['url_new'] = df['url_new'].apply(lambda x: str(x).lower().split())"
   ]
  },
  {
   "cell_type": "code",
   "execution_count": 13,
   "metadata": {},
   "outputs": [],
   "source": [
    "df['url_new'] = df['url_new'].apply(lambda x: [porter_stemmer.stem(word) for word in x if word not in stopwords])"
   ]
  },
  {
   "cell_type": "code",
   "execution_count": 14,
   "metadata": {},
   "outputs": [],
   "source": [
    "df['url_final'] = df['url_new'].apply(lambda x: ' '.join(x))"
   ]
  },
  {
   "cell_type": "code",
   "execution_count": 15,
   "metadata": {},
   "outputs": [],
   "source": [
    "tv_url = TfidfVectorizer(max_features = 1000)\n",
    "tf_idf_url = tv_url.fit_transform(df['url_final']).toarray()"
   ]
  },
  {
   "cell_type": "markdown",
   "metadata": {},
   "source": [
    "## Numericke atributy"
   ]
  },
  {
   "cell_type": "code",
   "execution_count": 16,
   "metadata": {},
   "outputs": [],
   "source": [
    "num_feature_set = ['avglinksize', 'commonlinkratio_1', 'commonlinkratio_2', 'commonlinkratio_3', 'commonlinkratio_4',\n",
    "                   'hasDomainLink','lengthyLinkDomain','linkwordscore','numberOfLinks',\n",
    "                   'numwords_in_url', 'parametrizedLinkRatio']"
   ]
  },
  {
   "cell_type": "markdown",
   "metadata": {},
   "source": [
    "## Benchmark model\n",
    "\n",
    "Natrenujeme benchmarkovy model, ktory bude natrenovany na vsetkych atributoch. Jeho vysledky sa nasledne budeme snazit dosiahnut s minimom oznacenych dat s co-trainingom."
   ]
  },
  {
   "cell_type": "code",
   "execution_count": 17,
   "metadata": {},
   "outputs": [],
   "source": [
    "y = df.label"
   ]
  },
  {
   "cell_type": "code",
   "execution_count": 18,
   "metadata": {},
   "outputs": [],
   "source": [
    "df1 = df.loc[:, num_feature_set]"
   ]
  },
  {
   "cell_type": "code",
   "execution_count": 19,
   "metadata": {},
   "outputs": [],
   "source": [
    "df2 = pd.DataFrame(tf_idf_url)"
   ]
  },
  {
   "cell_type": "code",
   "execution_count": 20,
   "metadata": {},
   "outputs": [],
   "source": [
    "X_temp = pd.concat([df2, pd.DataFrame(tf_idf)], axis=1, join_axes=[df2.index])\n",
    "X_temp.columns = list(range(0,2000))"
   ]
  },
  {
   "cell_type": "code",
   "execution_count": 21,
   "metadata": {},
   "outputs": [],
   "source": [
    "X = pd.concat([df1, X_temp], axis=1, join_axes=[df1.index])"
   ]
  },
  {
   "cell_type": "code",
   "execution_count": 22,
   "metadata": {},
   "outputs": [
    {
     "data": {
      "text/html": [
       "<div>\n",
       "<style scoped>\n",
       "    .dataframe tbody tr th:only-of-type {\n",
       "        vertical-align: middle;\n",
       "    }\n",
       "\n",
       "    .dataframe tbody tr th {\n",
       "        vertical-align: top;\n",
       "    }\n",
       "\n",
       "    .dataframe thead th {\n",
       "        text-align: right;\n",
       "    }\n",
       "</style>\n",
       "<table border=\"1\" class=\"dataframe\">\n",
       "  <thead>\n",
       "    <tr style=\"text-align: right;\">\n",
       "      <th></th>\n",
       "      <th>avglinksize</th>\n",
       "      <th>commonlinkratio_1</th>\n",
       "      <th>commonlinkratio_2</th>\n",
       "      <th>commonlinkratio_3</th>\n",
       "      <th>commonlinkratio_4</th>\n",
       "      <th>hasDomainLink</th>\n",
       "      <th>lengthyLinkDomain</th>\n",
       "      <th>linkwordscore</th>\n",
       "      <th>numberOfLinks</th>\n",
       "      <th>numwords_in_url</th>\n",
       "      <th>...</th>\n",
       "      <th>1990</th>\n",
       "      <th>1991</th>\n",
       "      <th>1992</th>\n",
       "      <th>1993</th>\n",
       "      <th>1994</th>\n",
       "      <th>1995</th>\n",
       "      <th>1996</th>\n",
       "      <th>1997</th>\n",
       "      <th>1998</th>\n",
       "      <th>1999</th>\n",
       "    </tr>\n",
       "  </thead>\n",
       "  <tbody>\n",
       "    <tr>\n",
       "      <th>0</th>\n",
       "      <td>2.055556</td>\n",
       "      <td>0.676471</td>\n",
       "      <td>0.205882</td>\n",
       "      <td>0.047059</td>\n",
       "      <td>0.023529</td>\n",
       "      <td>0</td>\n",
       "      <td>1</td>\n",
       "      <td>24</td>\n",
       "      <td>170</td>\n",
       "      <td>8</td>\n",
       "      <td>...</td>\n",
       "      <td>0.0</td>\n",
       "      <td>0.00000</td>\n",
       "      <td>0.157927</td>\n",
       "      <td>0.0</td>\n",
       "      <td>0.000000</td>\n",
       "      <td>0.028198</td>\n",
       "      <td>0.0</td>\n",
       "      <td>0.0</td>\n",
       "      <td>0.064583</td>\n",
       "      <td>0.0</td>\n",
       "    </tr>\n",
       "    <tr>\n",
       "      <th>1</th>\n",
       "      <td>3.677966</td>\n",
       "      <td>0.508021</td>\n",
       "      <td>0.288770</td>\n",
       "      <td>0.213904</td>\n",
       "      <td>0.144385</td>\n",
       "      <td>0</td>\n",
       "      <td>1</td>\n",
       "      <td>40</td>\n",
       "      <td>187</td>\n",
       "      <td>9</td>\n",
       "      <td>...</td>\n",
       "      <td>0.0</td>\n",
       "      <td>0.00000</td>\n",
       "      <td>0.031715</td>\n",
       "      <td>0.0</td>\n",
       "      <td>0.000000</td>\n",
       "      <td>0.000000</td>\n",
       "      <td>0.0</td>\n",
       "      <td>0.0</td>\n",
       "      <td>0.000000</td>\n",
       "      <td>0.0</td>\n",
       "    </tr>\n",
       "    <tr>\n",
       "      <th>2</th>\n",
       "      <td>2.382883</td>\n",
       "      <td>0.562016</td>\n",
       "      <td>0.321705</td>\n",
       "      <td>0.120155</td>\n",
       "      <td>0.042636</td>\n",
       "      <td>0</td>\n",
       "      <td>1</td>\n",
       "      <td>55</td>\n",
       "      <td>258</td>\n",
       "      <td>11</td>\n",
       "      <td>...</td>\n",
       "      <td>0.0</td>\n",
       "      <td>0.00000</td>\n",
       "      <td>0.000000</td>\n",
       "      <td>0.0</td>\n",
       "      <td>0.000000</td>\n",
       "      <td>0.000000</td>\n",
       "      <td>0.0</td>\n",
       "      <td>0.0</td>\n",
       "      <td>0.000000</td>\n",
       "      <td>0.0</td>\n",
       "    </tr>\n",
       "    <tr>\n",
       "      <th>3</th>\n",
       "      <td>1.543103</td>\n",
       "      <td>0.400000</td>\n",
       "      <td>0.100000</td>\n",
       "      <td>0.016667</td>\n",
       "      <td>0.000000</td>\n",
       "      <td>0</td>\n",
       "      <td>0</td>\n",
       "      <td>24</td>\n",
       "      <td>120</td>\n",
       "      <td>5</td>\n",
       "      <td>...</td>\n",
       "      <td>0.0</td>\n",
       "      <td>0.00000</td>\n",
       "      <td>0.000000</td>\n",
       "      <td>0.0</td>\n",
       "      <td>0.000000</td>\n",
       "      <td>0.000000</td>\n",
       "      <td>0.0</td>\n",
       "      <td>0.0</td>\n",
       "      <td>0.000000</td>\n",
       "      <td>0.0</td>\n",
       "    </tr>\n",
       "    <tr>\n",
       "      <th>4</th>\n",
       "      <td>2.676471</td>\n",
       "      <td>0.500000</td>\n",
       "      <td>0.222222</td>\n",
       "      <td>0.123457</td>\n",
       "      <td>0.043210</td>\n",
       "      <td>0</td>\n",
       "      <td>1</td>\n",
       "      <td>14</td>\n",
       "      <td>162</td>\n",
       "      <td>10</td>\n",
       "      <td>...</td>\n",
       "      <td>0.0</td>\n",
       "      <td>0.02762</td>\n",
       "      <td>0.107720</td>\n",
       "      <td>0.0</td>\n",
       "      <td>0.129191</td>\n",
       "      <td>0.128223</td>\n",
       "      <td>0.0</td>\n",
       "      <td>0.0</td>\n",
       "      <td>0.088102</td>\n",
       "      <td>0.0</td>\n",
       "    </tr>\n",
       "  </tbody>\n",
       "</table>\n",
       "<p>5 rows × 2011 columns</p>\n",
       "</div>"
      ],
      "text/plain": [
       "   avglinksize  commonlinkratio_1  commonlinkratio_2  commonlinkratio_3  \\\n",
       "0     2.055556           0.676471           0.205882           0.047059   \n",
       "1     3.677966           0.508021           0.288770           0.213904   \n",
       "2     2.382883           0.562016           0.321705           0.120155   \n",
       "3     1.543103           0.400000           0.100000           0.016667   \n",
       "4     2.676471           0.500000           0.222222           0.123457   \n",
       "\n",
       "   commonlinkratio_4  hasDomainLink  lengthyLinkDomain  linkwordscore  \\\n",
       "0           0.023529              0                  1             24   \n",
       "1           0.144385              0                  1             40   \n",
       "2           0.042636              0                  1             55   \n",
       "3           0.000000              0                  0             24   \n",
       "4           0.043210              0                  1             14   \n",
       "\n",
       "   numberOfLinks  numwords_in_url  ...   1990     1991      1992  1993  \\\n",
       "0            170                8  ...    0.0  0.00000  0.157927   0.0   \n",
       "1            187                9  ...    0.0  0.00000  0.031715   0.0   \n",
       "2            258               11  ...    0.0  0.00000  0.000000   0.0   \n",
       "3            120                5  ...    0.0  0.00000  0.000000   0.0   \n",
       "4            162               10  ...    0.0  0.02762  0.107720   0.0   \n",
       "\n",
       "       1994      1995  1996  1997      1998  1999  \n",
       "0  0.000000  0.028198   0.0   0.0  0.064583   0.0  \n",
       "1  0.000000  0.000000   0.0   0.0  0.000000   0.0  \n",
       "2  0.000000  0.000000   0.0   0.0  0.000000   0.0  \n",
       "3  0.000000  0.000000   0.0   0.0  0.000000   0.0  \n",
       "4  0.129191  0.128223   0.0   0.0  0.088102   0.0  \n",
       "\n",
       "[5 rows x 2011 columns]"
      ]
     },
     "execution_count": 22,
     "metadata": {},
     "output_type": "execute_result"
    }
   ],
   "source": [
    "X.head()"
   ]
  },
  {
   "cell_type": "code",
   "execution_count": 23,
   "metadata": {},
   "outputs": [],
   "source": [
    "col_names1 = list(range(0,1000))\n",
    "col_names1 = num_feature_set + col_names1\n",
    "col_names2 = list(range(1000,2000))\n",
    "# col_names2 = [str(i) for i in col_names2]"
   ]
  },
  {
   "cell_type": "code",
   "execution_count": 24,
   "metadata": {},
   "outputs": [],
   "source": [
    "X_train, X_test, y_train, y_test = ms.train_test_split(X, y, test_size=0.2, random_state=42)"
   ]
  },
  {
   "cell_type": "code",
   "execution_count": 25,
   "metadata": {},
   "outputs": [],
   "source": [
    "benchmark_clf = RandomForestClassifier(n_estimators=500, max_depth=20,\n",
    "                              random_state=10)"
   ]
  },
  {
   "cell_type": "code",
   "execution_count": 26,
   "metadata": {},
   "outputs": [],
   "source": [
    "benchmark_clf.fit(X_train, y_train)\n",
    "y_pred = benchmark_clf.predict(X_test)"
   ]
  },
  {
   "cell_type": "code",
   "execution_count": 27,
   "metadata": {},
   "outputs": [
    {
     "data": {
      "text/plain": [
       "array([[656,  74],\n",
       "       [221, 528]], dtype=int64)"
      ]
     },
     "execution_count": 27,
     "metadata": {},
     "output_type": "execute_result"
    }
   ],
   "source": [
    "confusion_matrix(y_test, y_pred)"
   ]
  },
  {
   "cell_type": "code",
   "execution_count": 28,
   "metadata": {},
   "outputs": [
    {
     "data": {
      "text/plain": [
       "0.8005409060175794"
      ]
     },
     "execution_count": 28,
     "metadata": {},
     "output_type": "execute_result"
    }
   ],
   "source": [
    "accuracy_score(y_test, y_pred)"
   ]
  },
  {
   "cell_type": "markdown",
   "metadata": {},
   "source": [
    "## Co-training evaluation"
   ]
  },
  {
   "cell_type": "code",
   "execution_count": 29,
   "metadata": {},
   "outputs": [],
   "source": [
    "class CombinedClassifier:\n",
    "    \n",
    "    def __init__(self,clf1, clf2, cols1, cols2):\n",
    "        self.clf1 = clf1\n",
    "        self.clf2 = clf2\n",
    "        self.cols1 = cols1\n",
    "        self.cols2 = cols2\n",
    "        \n",
    "    def predict(self, df):\n",
    "        result = []\n",
    "        for ind, row in df.iterrows():\n",
    "            \n",
    "            prob0 = self.clf1.predict_proba([df.loc[ind,self.cols1]])[0][0] * self.clf2.predict_proba([df.loc[ind,self.cols2]])[0][0]  \n",
    "            prob1 = self.clf1.predict_proba([df.loc[ind,self.cols1]])[0][1] * self.clf2.predict_proba([df.loc[ind,self.cols2]])[0][1]\n",
    "            res = 0 if prob0 > prob1 else 1\n",
    "            result.append(res)\n",
    "        return result"
   ]
  },
  {
   "cell_type": "markdown",
   "metadata": {},
   "source": [
    "### Co-training with iterations"
   ]
  },
  {
   "cell_type": "code",
   "execution_count": 30,
   "metadata": {},
   "outputs": [],
   "source": [
    "def co_training(L, U, col_names1, col_names2, clf1, clf2,u=75, k=30,p=1,n=3, label='label', X_test=None, y_test=None, random_state=None):\n",
    "    '''\n",
    "    L - labeled data\n",
    "    U - unlabeled data\n",
    "    col_names1 - columns for clf1\n",
    "    col_names2 - columns for clf2\n",
    "    clf1 - classificator1\n",
    "    clf2 - classificator2\n",
    "    u - number of unlabeled data for training\n",
    "    k - number of iteration\n",
    "    p - number of positive examles to add label per iteration\n",
    "    n - number of negative examles to add label per iteration\n",
    "    label - name of column in L whit label\n",
    "    '''\n",
    "    \n",
    "#     U0 = U.sample(u, random_state= random_state)\n",
    "#     U.drop(U0.index, inplace=True)\n",
    "    k0 = k\n",
    "    pred_1 = []\n",
    "    pred_2 = []\n",
    "    while k > 0:\n",
    "        #print(\"iteration: \", k0 - k)\n",
    "        # step 1: Use L to train a classifier h1 that considers only the x1 portion of x\n",
    "        clf1 = clf1.fit(L[col_names1],  L[label])\n",
    "        \n",
    "        # step 2: Use L, to train a classifier h2 that considers only the x2 portion of x\n",
    "        clf2 = clf2.fit(L[col_names2], L[label])\n",
    "        \n",
    "        # step 3: Allow hl to label p positive and n negative examples from U\n",
    "        predicted_prob1 = clf1.predict_proba(U[col_names1])\n",
    "        top_positive1 = predicted_prob1[:,1].argsort()[-p:]\n",
    "        top_negative1 = predicted_prob1[:,0].argsort()[-n:]\n",
    "        \n",
    "        # step 4: Allow hl to label p positive and n negative examples from U\n",
    "        predicted_prob2 = clf2.predict_proba(U[col_names2])\n",
    "        top_positive2 = predicted_prob2[:,1].argsort()[-p:]\n",
    "        top_negative2 = predicted_prob2[:,0].argsort()[-n:]    \n",
    "        \n",
    "        # step 5: Add these self-labeled examples to L\n",
    "        positive_ind = U.iloc[np.unique(np.concatenate((top_positive1,top_positive2))),:].index\n",
    "        negative_ind = U.iloc[np.unique(np.concatenate((top_negative1,top_negative2))),:].index\n",
    "        self_labeled = U.loc[np.unique(np.concatenate((positive_ind,negative_ind))),:]\n",
    "        U.drop(self_labeled.index, inplace=True)\n",
    "        self_labeled.loc[positive_ind, label] = 1\n",
    "        self_labeled.loc[negative_ind, label] = 0\n",
    "        L = pd.concat([L, self_labeled])\n",
    "    \n",
    "        if (X_test is not None and y_test is not None):\n",
    "            pred = clf1.predict(X_test[col_names1])\n",
    "            pred_1.append(accuracy_score(y_test,pred))\n",
    "            \n",
    "            pred = clf2.predict(X_test[col_names2])\n",
    "            pred_2.append(accuracy_score(y_test,pred))\n",
    "\n",
    "        k -= 1\n",
    "    \n",
    "    return [clf1, clf2, pred_1, pred_2]"
   ]
  },
  {
   "cell_type": "code",
   "execution_count": 31,
   "metadata": {},
   "outputs": [],
   "source": [
    "col_names1 = list(range(0,1000))\n",
    "col_names1 = num_feature_set + col_names1\n",
    "col_names2 = list(range(1000,2000))"
   ]
  },
  {
   "cell_type": "code",
   "execution_count": 135,
   "metadata": {},
   "outputs": [],
   "source": [
    "scores = [[0 for _ in range(3)] for _ in range(30)]\n",
    "\n",
    "for x in range(30):\n",
    "    df_x0 = X_train[y_train == 0].sample(5)\n",
    "    df_x1 = X_train[y_train == 1].sample(5)\n",
    "    \n",
    "    train = pd.concat([df_x0,df_x1])\n",
    "    x_train = X_train.drop(train.index)\n",
    "    train['label'] = y_train.loc[train.index]\n",
    "\n",
    "    clf1 = LogisticRegression()\n",
    "    clf2 = LogisticRegression()\n",
    "\n",
    "    new_1, new_2, scores[x][0], scores[x][1] = co_training(L=train,U=x_train, \n",
    "                               col_names1=col_names1,\n",
    "                               col_names2=col_names2, clf1=clf1, clf2=clf2, k=30, n=2, p=2, X_test=X_test, y_test=y_test)\n",
    "    \n",
    "#     pred = new_1.predict(X_test[col_names1])\n",
    "#     scores[0].append(accuracy_score(y_test, pred))\n",
    "\n",
    "#     pred = new_2.predict(X_test[col_names2])\n",
    "#     scores[1].append(accuracy_score(y_test, pred))\n",
    "\n",
    "    cl = CombinedClassifier(new_1,new_2,col_names1,col_names2)\n",
    "    pred = cl.predict(X_test)\n",
    "    scores[x][2] = accuracy_score(y_test, pred)"
   ]
  },
  {
   "cell_type": "code",
   "execution_count": 136,
   "metadata": {},
   "outputs": [],
   "source": [
    "avg_accuracy1 = []\n",
    "avg_accuracy2 = []\n",
    "model_accuracy1 = []\n",
    "model_accuracy2 = []\n",
    "for i in range(30):\n",
    "    sum_1 = 0 \n",
    "    sum_2 = 0\n",
    "    for j in range(30):\n",
    "        sum_1 += scores[j][0][i]\n",
    "        sum_2 += scores[j][1][i]\n",
    "        if i == 29:\n",
    "            model_accuracy1.append(scores[j][0][i])\n",
    "            model_accuracy2.append(scores[j][1][i])\n",
    "    avg_accuracy1.append(sum_1 / 30)\n",
    "    avg_accuracy2.append(sum_2 / 30)"
   ]
  },
  {
   "cell_type": "code",
   "execution_count": 52,
   "metadata": {},
   "outputs": [
    {
     "data": {
      "text/plain": [
       "[<matplotlib.lines.Line2D at 0x7fd3d6ac38d0>]"
      ]
     },
     "execution_count": 52,
     "metadata": {},
     "output_type": "execute_result"
    },
    {
     "data": {
      "image/png": "[encoded data removed]",
      "text/plain": [
       "<Figure size 432x288 with 1 Axes>"
      ]
     },
     "metadata": {
      "needs_background": "light"
     },
     "output_type": "display_data"
    }
   ],
   "source": [
    "plt.plot(avg_accuracy1)\n",
    "plt.plot(avg_accuracy2)"
   ]
  },
  {
   "cell_type": "code",
   "execution_count": 53,
   "metadata": {},
   "outputs": [
    {
     "name": "stdout",
     "output_type": "stream",
     "text": [
      "Min: 0.5388776200135227\n",
      "Max: 0.6051386071670047\n",
      "Avg: 0.5720081135902637\n",
      "Std: 0.03313049357674103\n"
     ]
    }
   ],
   "source": [
    "print(\"Min: \" + str(np.min(model_accuracy1)))\n",
    "print(\"Max: \" + str(np.max(model_accuracy1)))\n",
    "print(\"Avg: \" + str(np.mean(model_accuracy1)))\n",
    "print(\"Std: \" + str(np.std(model_accuracy1)))"
   ]
  },
  {
   "cell_type": "code",
   "execution_count": 54,
   "metadata": {},
   "outputs": [
    {
     "name": "stdout",
     "output_type": "stream",
     "text": [
      "Min: 0.5415821501014199\n",
      "Max: 0.7403651115618661\n",
      "Avg: 0.6409736308316429\n",
      "Std: 0.09939148073022314\n"
     ]
    }
   ],
   "source": [
    "print(\"Min: \" + str(np.min(model_accuracy2)))\n",
    "print(\"Max: \" + str(np.max(model_accuracy2)))\n",
    "print(\"Avg: \" + str(np.mean(model_accuracy2)))\n",
    "print(\"Std: \" + str(np.std(model_accuracy2)))"
   ]
  },
  {
   "cell_type": "code",
   "execution_count": 55,
   "metadata": {},
   "outputs": [
    {
     "name": "stdout",
     "output_type": "stream",
     "text": [
      "Min: 0.54631507775524\n",
      "Max: 0.6781609195402298\n",
      "Avg: 0.6122379986477349\n",
      "Std: 0.06592292089249491\n"
     ]
    }
   ],
   "source": [
    "score_combined = []\n",
    "\n",
    "for i in range(2):\n",
    "    score_combined.append(scores[i][2])\n",
    "\n",
    "print(\"Min: \" + str(np.min(score_combined)))\n",
    "print(\"Max: \" + str(np.max(score_combined)))\n",
    "print(\"Avg: \" + str(np.mean(score_combined)))\n",
    "print(\"Std: \" + str(np.std(score_combined)))"
   ]
  },
  {
   "cell_type": "markdown",
   "metadata": {},
   "source": [
    "### Co-training with threshold"
   ]
  },
  {
   "cell_type": "code",
   "execution_count": 33,
   "metadata": {},
   "outputs": [],
   "source": [
    "def co_training_threshold(L, U, col_names1, col_names2, clf1, clf2, \n",
    "                          label='label', random_state=None, X_test=None, y_test=None, threshold=0.8, \n",
    "                         n=5, p=5):\n",
    "    '''\n",
    "    L - labeled data\n",
    "    U - unlabeled data\n",
    "    col_names1 - columns for clf1\n",
    "    col_names2 - columns for clf2\n",
    "    clf1 - classificator1\n",
    "    clf2 - classificator2\n",
    "    label - name of column in L whit label\n",
    "    threshold - threshold of predictions probability\n",
    "    '''\n",
    "    \n",
    "    pred_1 = []\n",
    "    pred_2 = []\n",
    "    print(\"next\")\n",
    "    while len(U) > n + p:\n",
    "#         print(\"labeled data:\", len(L))\n",
    "        # step 1: Use L to train a classifier h1 that considers only the x1 portion of x\n",
    "        clf1 = clf1.fit(L[col_names1],  L[label])\n",
    "        \n",
    "        # step 2: Use L, to train a classifier h2 that considers only the x2 portion of x\n",
    "        clf2 = clf2.fit(L[col_names2], L[label])\n",
    "        \n",
    "        # step 3: Allow hl to label p positive and n negative examples from U\n",
    "        predicted_prob1 = clf1.predict_proba(U[col_names1])\n",
    "#         print(predicted_prob1[predicted_prob1[:,1].argsort()[-p:],1])\n",
    "        top_positive1 = [x for x in predicted_prob1[:,1].argsort()[-p:] if predicted_prob1[x,1] > threshold] \n",
    "        top_negative1 = [x for x in predicted_prob1[:,0].argsort()[-p:] if predicted_prob1[x,0] > threshold]\n",
    "        \n",
    "        \n",
    "        \n",
    "        # step 4: Allow hl to label p positive and n negative examples from U\n",
    "        predicted_prob2 = clf2.predict_proba(U[col_names2]) \n",
    "        top_positive2 = [x for x in predicted_prob2[:,1].argsort()[-p:] if predicted_prob2[x,1] > threshold]\n",
    "        top_negative2 = [x for x in predicted_prob2[:,0].argsort()[-n:] if predicted_prob2[x,0] > threshold]\n",
    "        \n",
    "        # step 5: Add these self-labeled examples to L\n",
    "        if(np.unique(np.concatenate((top_positive1,top_positive2, top_negative1, top_negative2))).size < n + p):\n",
    "            if (X_test is not None and y_test is not None):\n",
    "                pred = clf1.predict(X_test[col_names1])\n",
    "                pred_1.append(accuracy_score(y_test,pred))\n",
    "\n",
    "                pred = clf2.predict(X_test[col_names2])\n",
    "                pred_2.append(accuracy_score(y_test,pred))\n",
    "                \n",
    "            return [clf1,clf2, pred_1, pred_2]\n",
    "        \n",
    "        \n",
    "        positive_ind = U.iloc[np.unique(np.concatenate((top_positive1,top_positive2))),:].index\n",
    "        negative_ind = U.iloc[np.unique(np.concatenate((top_negative1,top_negative2))),:].index\n",
    "        self_labeled = U.loc[np.unique(np.concatenate((positive_ind,negative_ind))),:]\n",
    "        U.drop(self_labeled.index, inplace=True)\n",
    "        self_labeled.loc[positive_ind, label] = 1\n",
    "        self_labeled.loc[negative_ind, label] = 0\n",
    "        L = pd.concat([L, self_labeled])\n",
    "        \n",
    "        if (X_test is not None and y_test is not None):\n",
    "            pred = clf1.predict(X_test[col_names1])\n",
    "            pred_1.append(accuracy_score(y_test,pred))\n",
    "            \n",
    "            pred = clf2.predict(X_test[col_names2])\n",
    "            pred_2.append(accuracy_score(y_test,pred))\n",
    "    \n",
    "    return [clf1, clf2, pred_1, pred_2]"
   ]
  },
  {
   "cell_type": "code",
   "execution_count": 35,
   "metadata": {
    "scrolled": true
   },
   "outputs": [
    {
     "name": "stdout",
     "output_type": "stream",
     "text": [
      "next\n",
      "0\n",
      "next\n",
      "1\n",
      "next\n",
      "2\n",
      "next\n",
      "3\n",
      "next\n",
      "4\n",
      "next\n",
      "5\n",
      "next\n",
      "6\n",
      "next\n",
      "7\n",
      "next\n",
      "8\n",
      "next\n",
      "9\n",
      "next\n",
      "10\n",
      "next\n",
      "11\n",
      "next\n",
      "12\n",
      "next\n",
      "13\n",
      "next\n",
      "14\n",
      "next\n",
      "15\n",
      "next\n",
      "16\n",
      "next\n",
      "17\n",
      "next\n",
      "18\n",
      "next\n",
      "19\n",
      "next\n",
      "20\n",
      "next\n",
      "21\n",
      "next\n",
      "22\n",
      "next\n",
      "23\n",
      "next\n",
      "24\n",
      "next\n",
      "25\n",
      "next\n",
      "26\n",
      "next\n",
      "27\n",
      "next\n",
      "28\n",
      "next\n",
      "29\n"
     ]
    }
   ],
   "source": [
    "scores_threshold = [[0 for _ in range(3)] for _ in range(30)]\n",
    "\n",
    "for x in range(30):\n",
    "    df_x0 = X_train[y_train == 0].sample(5)\n",
    "    df_x1 = X_train[y_train == 1].sample(5)\n",
    "    \n",
    "    train = pd.concat([df_x0,df_x1])\n",
    "    x_train = X_train.drop(train.index)\n",
    "    train['label'] = y_train.loc[train.index]\n",
    "\n",
    "    clf1 = LogisticRegression()\n",
    "    clf2 = LogisticRegression()\n",
    "\n",
    "    new_1, new_2, scores_threshold[x][0], scores_threshold[x][1] = co_training_threshold(L=train.copy(),U=x_train.copy(), \n",
    "                               col_names1=col_names1,\n",
    "                               col_names2=col_names2, clf1=clf1, clf2=clf2, \n",
    "                                                                     X_test=X_test, y_test=y_test, \n",
    "                                                                     n=20,p=20,threshold=0.90)\n",
    "    print(x)\n",
    "    \n",
    "#     pred = new_1.predict(X_test[col_names1])\n",
    "#     scores[0].append(accuracy_score(y_test, pred))\n",
    "\n",
    "#     pred = new_2.predict(X_test[col_names2])\n",
    "#     scores[1].append(accuracy_score(y_test, pred))\n",
    "\n",
    "    cl = CombinedClassifier(new_1,new_2,col_names1,col_names2)\n",
    "    pred = cl.predict(X_test)\n",
    "    scores_threshold[x][2] = accuracy_score(y_test, pred)"
   ]
  },
  {
   "cell_type": "code",
   "execution_count": 38,
   "metadata": {},
   "outputs": [],
   "source": [
    "avg_accuracy1 = []\n",
    "avg_accuracy2 = []\n",
    "model_accuracy1 = []\n",
    "model_accuracy2 = []\n",
    "for i in range(30):\n",
    "    sum_1 = 0 \n",
    "    sum_2 = 0\n",
    "    for j in range(30):\n",
    "        sum_1 += scores_threshold[j][0][i]\n",
    "        sum_2 += scores_threshold[j][1][i]\n",
    "        if i == 29:\n",
    "            model_accuracy1.append(scores_threshold[j][0][i])\n",
    "            model_accuracy2.append(scores_threshold[j][1][i])\n",
    "    avg_accuracy1.append(sum_1 / 30)\n",
    "    avg_accuracy2.append(sum_2 / 30)"
   ]
  },
  {
   "cell_type": "code",
   "execution_count": 39,
   "metadata": {},
   "outputs": [
    {
     "data": {
      "text/plain": [
       "[<matplotlib.lines.Line2D at 0x1ea1af685c0>]"
      ]
     },
     "execution_count": 39,
     "metadata": {},
     "output_type": "execute_result"
    },
    {
     "data": {
      "image/png": "[encoded data removed]",
      "text/plain": [
       "<Figure size 432x288 with 1 Axes>"
      ]
     },
     "metadata": {},
     "output_type": "display_data"
    }
   ],
   "source": [
    "plt.plot(avg_accuracy1)\n",
    "plt.plot(avg_accuracy2)"
   ]
  },
  {
   "cell_type": "code",
   "execution_count": 40,
   "metadata": {},
   "outputs": [
    {
     "name": "stdout",
     "output_type": "stream",
     "text": [
      "Min: 0.3813387423935091\n",
      "Max: 0.6139283299526708\n",
      "Avg: 0.5348433626324093\n",
      "Std: 0.0767401940053119\n"
     ]
    }
   ],
   "source": [
    "print(\"Min: \" + str(np.min(model_accuracy1)))\n",
    "print(\"Max: \" + str(np.max(model_accuracy1)))\n",
    "print(\"Avg: \" + str(np.mean(model_accuracy1)))\n",
    "print(\"Std: \" + str(np.std(model_accuracy1)))"
   ]
  },
  {
   "cell_type": "code",
   "execution_count": 41,
   "metadata": {},
   "outputs": [
    {
     "name": "stdout",
     "output_type": "stream",
     "text": [
      "Min: 0.3204868154158215\n",
      "Max: 0.6734279918864098\n",
      "Avg: 0.551611449177372\n",
      "Std: 0.12950330616995787\n"
     ]
    }
   ],
   "source": [
    "print(\"Min: \" + str(np.min(model_accuracy2)))\n",
    "print(\"Max: \" + str(np.max(model_accuracy2)))\n",
    "print(\"Avg: \" + str(np.mean(model_accuracy2)))\n",
    "print(\"Std: \" + str(np.std(model_accuracy2)))"
   ]
  },
  {
   "cell_type": "code",
   "execution_count": 42,
   "metadata": {},
   "outputs": [
    {
     "name": "stdout",
     "output_type": "stream",
     "text": [
      "Min: 0.42055442866801895\n",
      "Max: 0.4462474645030426\n",
      "Avg: 0.43340094658553074\n",
      "Std: 0.012846517917511818\n"
     ]
    }
   ],
   "source": [
    "score_combined = []\n",
    "\n",
    "for i in range(2):\n",
    "    score_combined.append(scores_threshold[i][2])\n",
    "\n",
    "print(\"Min: \" + str(np.min(score_combined)))\n",
    "print(\"Max: \" + str(np.max(score_combined)))\n",
    "print(\"Avg: \" + str(np.mean(score_combined)))\n",
    "print(\"Std: \" + str(np.std(score_combined)))"
   ]
  },
  {
   "cell_type": "markdown",
   "metadata": {},
   "source": [
    "### Self-training"
   ]
  },
  {
   "cell_type": "code",
   "execution_count": null,
   "metadata": {},
   "outputs": [],
   "source": []
  },
  {
   "cell_type": "code",
   "execution_count": null,
   "metadata": {},
   "outputs": [],
   "source": []
  },
  {
   "cell_type": "code",
   "execution_count": null,
   "metadata": {},
   "outputs": [],
   "source": []
  },
  {
   "cell_type": "code",
   "execution_count": null,
   "metadata": {},
   "outputs": [],
   "source": []
  },
  {
   "cell_type": "code",
   "execution_count": null,
   "metadata": {},
   "outputs": [],
   "source": []
  },
  {
   "cell_type": "code",
   "execution_count": null,
   "metadata": {},
   "outputs": [],
   "source": []
  },
  {
   "cell_type": "code",
   "execution_count": null,
   "metadata": {},
   "outputs": [],
   "source": [
    "from sklearn.linear_model import LogisticRegression\n",
    "from sklearn.svm import LinearSVC\n",
    "from sklearn.metrics import classification_report\n",
    "\n",
    "import classifiers\n",
    "from classifiers import CoTrainingClassifier"
   ]
  },
  {
   "cell_type": "code",
   "execution_count": null,
   "metadata": {},
   "outputs": [],
   "source": [
    "# df_x0 = X_train[y_train == 0].sample(5)\n",
    "# df_x1 = X_train[y_train == 1].sample(5)"
   ]
  },
  {
   "cell_type": "code",
   "execution_count": null,
   "metadata": {},
   "outputs": [],
   "source": [
    "# train = pd.concat([df_x0,df_x1])\n",
    "# X_train.drop(train.index, inplace=True)\n",
    "# train['label'] = y_train.loc[train.index]"
   ]
  },
  {
   "cell_type": "code",
   "execution_count": null,
   "metadata": {},
   "outputs": [],
   "source": [
    "tmp1 = set(y_train[y_train == 0].sample(5).index) | set(y_train[y_train == 1].sample(5).index)\n",
    "tmp2 = set(y_train.index) - set(tmp1)\n",
    "y_train.loc[tmp2] = -1"
   ]
  },
  {
   "cell_type": "code",
   "execution_count": null,
   "metadata": {},
   "outputs": [],
   "source": [
    "X_train.head()"
   ]
  },
  {
   "cell_type": "code",
   "execution_count": 66,
   "metadata": {},
   "outputs": [
    {
     "data": {
      "text/plain": [
       "Int64Index([7227, 180, 1377, 1836, 2066, 4897, 5355, 938, 1059, 1585], dtype='int64')"
      ]
     },
     "execution_count": 66,
     "metadata": {},
     "output_type": "execute_result"
    }
   ],
   "source": [
    "y_train[y_train != -1].index"
   ]
  },
  {
   "cell_type": "code",
   "execution_count": 68,
   "metadata": {},
   "outputs": [],
   "source": [
    "lg_co_clf = CoTrainingClassifier(LogisticRegression(), p=2, n=2)\n",
    "lg_co_clf.fit(X_train[col_names1].reset_index(), X_train[col_names2].reset_index(), y_train.reset_index())\n",
    "y_pred = lg_co_clf.predict(X_test[col_names1], X_test[col_names2])\n",
    "print (classification_report(y_test, y_pred))"
   ]
  }
 ],
 "metadata": {
  "kernelspec": {
   "display_name": "Python 3",
   "language": "python",
   "name": "python3"
  },
  "language_info": {
   "codemirror_mode": {
    "name": "ipython",
    "version": 3
   },
   "file_extension": ".py",
   "mimetype": "text/x-python",
   "name": "python",
   "nbconvert_exporter": "python",
   "pygments_lexer": "ipython3",
   "version": "3.6.5"
  }
 },
 "nbformat": 4,
 "nbformat_minor": 1
}
